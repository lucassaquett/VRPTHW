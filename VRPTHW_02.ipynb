{
  "nbformat": 4,
  "nbformat_minor": 0,
  "metadata": {
    "colab": {
      "provenance": [],
      "authorship_tag": "ABX9TyNVM9yb4Cvmyv69CAh3a1Ks",
      "include_colab_link": true
    },
    "kernelspec": {
      "name": "python3",
      "display_name": "Python 3"
    },
    "language_info": {
      "name": "python"
    }
  },
  "cells": [
    {
      "cell_type": "markdown",
      "metadata": {
        "id": "view-in-github",
        "colab_type": "text"
      },
      "source": [
        "<a href=\"https://colab.research.google.com/github/lucassaquett/VRPTHW/blob/main/VRPTHW_02.ipynb\" target=\"_parent\"><img src=\"https://colab.research.google.com/assets/colab-badge.svg\" alt=\"Open In Colab\"/></a>"
      ]
    },
    {
      "cell_type": "code",
      "source": [
        "!pip install gurobipy"
      ],
      "metadata": {
        "colab": {
          "base_uri": "https://localhost:8080/"
        },
        "id": "LmOwu1R3UpoF",
        "outputId": "04f3b50b-10d1-4fbb-b6a4-b3a3dc147374"
      },
      "execution_count": 10,
      "outputs": [
        {
          "output_type": "stream",
          "name": "stdout",
          "text": [
            "Looking in indexes: https://pypi.org/simple, https://us-python.pkg.dev/colab-wheels/public/simple/\n",
            "Collecting gurobipy\n",
            "  Downloading gurobipy-10.0.1-cp39-cp39-manylinux2014_x86_64.whl (12.8 MB)\n",
            "\u001b[2K     \u001b[90m━━━━━━━━━━━━━━━━━━━━━━━━━━━━━━━━━━━━━━━━\u001b[0m \u001b[32m12.8/12.8 MB\u001b[0m \u001b[31m60.7 MB/s\u001b[0m eta \u001b[36m0:00:00\u001b[0m\n",
            "\u001b[?25hInstalling collected packages: gurobipy\n",
            "Successfully installed gurobipy-10.0.1\n"
          ]
        }
      ]
    },
    {
      "cell_type": "code",
      "source": [
        "from gurobipy import*\n",
        "import numpy as np"
      ],
      "metadata": {
        "id": "a9QTs1LRXoNA"
      },
      "execution_count": 17,
      "outputs": []
    },
    {
      "cell_type": "code",
      "execution_count": 63,
      "metadata": {
        "id": "1i2WMecVr8fA"
      },
      "outputs": [],
      "source": [
        "#Nos e arcos\n",
        "n = 11\n",
        "clientes = [ i for i in range(n) if i !=0 ]\n",
        "nos = [0]+clientes\n",
        "arcos=[(i,j) for i in nos for j in nos if i!=j]\n",
        "\n",
        "#Demanda\n",
        "q={n:np.random.randint(10,15) for n in clientes}\n",
        "q[0]=0\n",
        "\n",
        "#Janelas de tempo\n",
        "e={0:0, 1:10, 2:10, 3:10, 4:20, 5:20, 6:20, 7:40, 8:40, 9:40, 10:40} #Tempo minimo de chegada\n",
        "l={0:200, 1:100, 2:100, 3:100, 4:150, 5:150, 6:150, 7:180, 8:180, 9:180, 10:180} #tempo maximo de chegada\n",
        "\n",
        "s={n:np.random.randint(3,5) for n in clientes } #tempo de serviço\n",
        "s[0] = 0\n",
        "\n",
        "#Veiculos\n",
        "veiculos = [1,2,3,4]\n",
        "#q=50\n",
        "Q={1:50,2:50,3:25,4:25}\n",
        "\n",
        "#Coordenadas:\n",
        "X=np.random.rand(len(nos))*100\n",
        "Y=np.random.rand(len(nos))*100\n",
        "\n",
        "custo = {(i,j) : np.hypot(X[i]-X[j],Y[i]-Y[j]) for i in nos for j in nos if i != j}\n",
        "tempo = {(i,j) : np.hypot(X[i]-X[j],Y[i]-Y[j]) for i in nos for j in nos if i != j}\n",
        "\n",
        "arco = [(i,j,k) for i in nos for j in nos for k in veiculos if i!=j ]\n",
        "tempos_dos_arcos = [(i,k) for i in nos for k in veiculos]"
      ]
    },
    {
      "cell_type": "code",
      "source": [
        "model = Model('VRPTW')"
      ],
      "metadata": {
        "id": "Bka-_dBBbvoK"
      },
      "execution_count": 47,
      "outputs": []
    },
    {
      "cell_type": "code",
      "source": [
        "#Variaveis de decições\n",
        "x = model.addVars(arco, vtype=GRB.BINARY, name = 'x')\n",
        "t = model.addVars(tempos_dos_arcos, vtype=GRB.CONTINUOUS, name = 't')"
      ],
      "metadata": {
        "id": "bLhiAcTFbxKn"
      },
      "execution_count": 57,
      "outputs": []
    },
    {
      "cell_type": "code",
      "source": [
        "model.setObjective(quicksum(custo[i,j]*x[i,j,k] for i,j,k in arco), GRB.MINIMIZE)"
      ],
      "metadata": {
        "id": "yMuMLQIkcSMY"
      },
      "execution_count": 49,
      "outputs": []
    },
    {
      "cell_type": "code",
      "source": [
        "#Restrições de chega e saída\n",
        "model.addConstrs(quicksum(x[0,j,k] for j in clientes) <=1 for k in veiculos)\n",
        "model.addConstrs(quicksum(x[i,0,k] for i in clientes) <=1 for k in veiculos)"
      ],
      "metadata": {
        "colab": {
          "base_uri": "https://localhost:8080/"
        },
        "id": "He0QgKUOcrId",
        "outputId": "65e79050-1535-4eeb-a229-761aea48d7fb"
      },
      "execution_count": 50,
      "outputs": [
        {
          "output_type": "execute_result",
          "data": {
            "text/plain": [
              "{1: <gurobi.Constr *Awaiting Model Update*>,\n",
              " 2: <gurobi.Constr *Awaiting Model Update*>,\n",
              " 3: <gurobi.Constr *Awaiting Model Update*>,\n",
              " 4: <gurobi.Constr *Awaiting Model Update*>}"
            ]
          },
          "metadata": {},
          "execution_count": 50
        }
      ]
    },
    {
      "cell_type": "code",
      "source": [
        "#Um veiuclo para cada nó\n",
        "model.addConstrs(quicksum(x[i,j,k] for j in nos for k in veiculos if i!=j) == 1 for i in clientes)"
      ],
      "metadata": {
        "colab": {
          "base_uri": "https://localhost:8080/"
        },
        "id": "ATxdZyCkdb23",
        "outputId": "c5707952-ab55-42f2-84d4-91c9e1309a4b"
      },
      "execution_count": 51,
      "outputs": [
        {
          "output_type": "execute_result",
          "data": {
            "text/plain": [
              "{1: <gurobi.Constr *Awaiting Model Update*>,\n",
              " 2: <gurobi.Constr *Awaiting Model Update*>,\n",
              " 3: <gurobi.Constr *Awaiting Model Update*>,\n",
              " 4: <gurobi.Constr *Awaiting Model Update*>,\n",
              " 5: <gurobi.Constr *Awaiting Model Update*>,\n",
              " 6: <gurobi.Constr *Awaiting Model Update*>,\n",
              " 7: <gurobi.Constr *Awaiting Model Update*>,\n",
              " 8: <gurobi.Constr *Awaiting Model Update*>,\n",
              " 9: <gurobi.Constr *Awaiting Model Update*>,\n",
              " 10: <gurobi.Constr *Awaiting Model Update*>}"
            ]
          },
          "metadata": {},
          "execution_count": 51
        }
      ]
    },
    {
      "cell_type": "code",
      "source": [
        "#Conservação de fluxo\n",
        "model.addConstrs(quicksum(x[i,j,k] for j in nos if i!=j) - quicksum(x[i,j,k] for j in nos if i!=j) == 0 for i in nos for k in veiculos)"
      ],
      "metadata": {
        "colab": {
          "base_uri": "https://localhost:8080/"
        },
        "id": "-yYh9zLHeV1O",
        "outputId": "1270b866-33f6-4d70-cfda-9e741a937333"
      },
      "execution_count": 52,
      "outputs": [
        {
          "output_type": "execute_result",
          "data": {
            "text/plain": [
              "{(0, 1): <gurobi.Constr *Awaiting Model Update*>,\n",
              " (0, 2): <gurobi.Constr *Awaiting Model Update*>,\n",
              " (0, 3): <gurobi.Constr *Awaiting Model Update*>,\n",
              " (0, 4): <gurobi.Constr *Awaiting Model Update*>,\n",
              " (1, 1): <gurobi.Constr *Awaiting Model Update*>,\n",
              " (1, 2): <gurobi.Constr *Awaiting Model Update*>,\n",
              " (1, 3): <gurobi.Constr *Awaiting Model Update*>,\n",
              " (1, 4): <gurobi.Constr *Awaiting Model Update*>,\n",
              " (2, 1): <gurobi.Constr *Awaiting Model Update*>,\n",
              " (2, 2): <gurobi.Constr *Awaiting Model Update*>,\n",
              " (2, 3): <gurobi.Constr *Awaiting Model Update*>,\n",
              " (2, 4): <gurobi.Constr *Awaiting Model Update*>,\n",
              " (3, 1): <gurobi.Constr *Awaiting Model Update*>,\n",
              " (3, 2): <gurobi.Constr *Awaiting Model Update*>,\n",
              " (3, 3): <gurobi.Constr *Awaiting Model Update*>,\n",
              " (3, 4): <gurobi.Constr *Awaiting Model Update*>,\n",
              " (4, 1): <gurobi.Constr *Awaiting Model Update*>,\n",
              " (4, 2): <gurobi.Constr *Awaiting Model Update*>,\n",
              " (4, 3): <gurobi.Constr *Awaiting Model Update*>,\n",
              " (4, 4): <gurobi.Constr *Awaiting Model Update*>,\n",
              " (5, 1): <gurobi.Constr *Awaiting Model Update*>,\n",
              " (5, 2): <gurobi.Constr *Awaiting Model Update*>,\n",
              " (5, 3): <gurobi.Constr *Awaiting Model Update*>,\n",
              " (5, 4): <gurobi.Constr *Awaiting Model Update*>,\n",
              " (6, 1): <gurobi.Constr *Awaiting Model Update*>,\n",
              " (6, 2): <gurobi.Constr *Awaiting Model Update*>,\n",
              " (6, 3): <gurobi.Constr *Awaiting Model Update*>,\n",
              " (6, 4): <gurobi.Constr *Awaiting Model Update*>,\n",
              " (7, 1): <gurobi.Constr *Awaiting Model Update*>,\n",
              " (7, 2): <gurobi.Constr *Awaiting Model Update*>,\n",
              " (7, 3): <gurobi.Constr *Awaiting Model Update*>,\n",
              " (7, 4): <gurobi.Constr *Awaiting Model Update*>,\n",
              " (8, 1): <gurobi.Constr *Awaiting Model Update*>,\n",
              " (8, 2): <gurobi.Constr *Awaiting Model Update*>,\n",
              " (8, 3): <gurobi.Constr *Awaiting Model Update*>,\n",
              " (8, 4): <gurobi.Constr *Awaiting Model Update*>,\n",
              " (9, 1): <gurobi.Constr *Awaiting Model Update*>,\n",
              " (9, 2): <gurobi.Constr *Awaiting Model Update*>,\n",
              " (9, 3): <gurobi.Constr *Awaiting Model Update*>,\n",
              " (9, 4): <gurobi.Constr *Awaiting Model Update*>,\n",
              " (10, 1): <gurobi.Constr *Awaiting Model Update*>,\n",
              " (10, 2): <gurobi.Constr *Awaiting Model Update*>,\n",
              " (10, 3): <gurobi.Constr *Awaiting Model Update*>,\n",
              " (10, 4): <gurobi.Constr *Awaiting Model Update*>}"
            ]
          },
          "metadata": {},
          "execution_count": 52
        }
      ]
    },
    {
      "cell_type": "code",
      "source": [
        "#Capacidade do veiculo\n",
        "model.addConstrs(quicksum(q[i]*quicksum(x[i,j,k] for j in nos if i!=j) for i in clientes)<=Q[k] for k in veiculos)"
      ],
      "metadata": {
        "colab": {
          "base_uri": "https://localhost:8080/"
        },
        "id": "Rl0AwgcgqqvH",
        "outputId": "6b154b23-ea2b-4c0a-cb66-008a65d54b59"
      },
      "execution_count": 53,
      "outputs": [
        {
          "output_type": "execute_result",
          "data": {
            "text/plain": [
              "{1: <gurobi.Constr *Awaiting Model Update*>,\n",
              " 2: <gurobi.Constr *Awaiting Model Update*>,\n",
              " 3: <gurobi.Constr *Awaiting Model Update*>,\n",
              " 4: <gurobi.Constr *Awaiting Model Update*>}"
            ]
          },
          "metadata": {},
          "execution_count": 53
        }
      ]
    },
    {
      "cell_type": "code",
      "source": [
        "#Restrições de tempo\n",
        "model.addConstrs((x[i,j,k] == 1)>> (t[i,k]+s[i]+tempo[i,j] == t[j,k]) for i in clientes for j in clientes for k in veiculos if i!=j)\n",
        "model.addConstrs(t[i,k] >= e[i] for i,k in tempos_dos_arcos)\n",
        "model.addConstrs(t[i,k] <= l[i] for i,k in tempos_dos_arcos)"
      ],
      "metadata": {
        "colab": {
          "base_uri": "https://localhost:8080/"
        },
        "id": "v8NyevDZs2gp",
        "outputId": "92808c35-e20a-460c-adf0-be58f93f9f80"
      },
      "execution_count": 59,
      "outputs": [
        {
          "output_type": "execute_result",
          "data": {
            "text/plain": [
              "{(0, 1): <gurobi.Constr *Awaiting Model Update*>,\n",
              " (0, 2): <gurobi.Constr *Awaiting Model Update*>,\n",
              " (0, 3): <gurobi.Constr *Awaiting Model Update*>,\n",
              " (0, 4): <gurobi.Constr *Awaiting Model Update*>,\n",
              " (1, 1): <gurobi.Constr *Awaiting Model Update*>,\n",
              " (1, 2): <gurobi.Constr *Awaiting Model Update*>,\n",
              " (1, 3): <gurobi.Constr *Awaiting Model Update*>,\n",
              " (1, 4): <gurobi.Constr *Awaiting Model Update*>,\n",
              " (2, 1): <gurobi.Constr *Awaiting Model Update*>,\n",
              " (2, 2): <gurobi.Constr *Awaiting Model Update*>,\n",
              " (2, 3): <gurobi.Constr *Awaiting Model Update*>,\n",
              " (2, 4): <gurobi.Constr *Awaiting Model Update*>,\n",
              " (3, 1): <gurobi.Constr *Awaiting Model Update*>,\n",
              " (3, 2): <gurobi.Constr *Awaiting Model Update*>,\n",
              " (3, 3): <gurobi.Constr *Awaiting Model Update*>,\n",
              " (3, 4): <gurobi.Constr *Awaiting Model Update*>,\n",
              " (4, 1): <gurobi.Constr *Awaiting Model Update*>,\n",
              " (4, 2): <gurobi.Constr *Awaiting Model Update*>,\n",
              " (4, 3): <gurobi.Constr *Awaiting Model Update*>,\n",
              " (4, 4): <gurobi.Constr *Awaiting Model Update*>,\n",
              " (5, 1): <gurobi.Constr *Awaiting Model Update*>,\n",
              " (5, 2): <gurobi.Constr *Awaiting Model Update*>,\n",
              " (5, 3): <gurobi.Constr *Awaiting Model Update*>,\n",
              " (5, 4): <gurobi.Constr *Awaiting Model Update*>,\n",
              " (6, 1): <gurobi.Constr *Awaiting Model Update*>,\n",
              " (6, 2): <gurobi.Constr *Awaiting Model Update*>,\n",
              " (6, 3): <gurobi.Constr *Awaiting Model Update*>,\n",
              " (6, 4): <gurobi.Constr *Awaiting Model Update*>,\n",
              " (7, 1): <gurobi.Constr *Awaiting Model Update*>,\n",
              " (7, 2): <gurobi.Constr *Awaiting Model Update*>,\n",
              " (7, 3): <gurobi.Constr *Awaiting Model Update*>,\n",
              " (7, 4): <gurobi.Constr *Awaiting Model Update*>,\n",
              " (8, 1): <gurobi.Constr *Awaiting Model Update*>,\n",
              " (8, 2): <gurobi.Constr *Awaiting Model Update*>,\n",
              " (8, 3): <gurobi.Constr *Awaiting Model Update*>,\n",
              " (8, 4): <gurobi.Constr *Awaiting Model Update*>,\n",
              " (9, 1): <gurobi.Constr *Awaiting Model Update*>,\n",
              " (9, 2): <gurobi.Constr *Awaiting Model Update*>,\n",
              " (9, 3): <gurobi.Constr *Awaiting Model Update*>,\n",
              " (9, 4): <gurobi.Constr *Awaiting Model Update*>,\n",
              " (10, 1): <gurobi.Constr *Awaiting Model Update*>,\n",
              " (10, 2): <gurobi.Constr *Awaiting Model Update*>,\n",
              " (10, 3): <gurobi.Constr *Awaiting Model Update*>,\n",
              " (10, 4): <gurobi.Constr *Awaiting Model Update*>}"
            ]
          },
          "metadata": {},
          "execution_count": 59
        }
      ]
    },
    {
      "cell_type": "code",
      "source": [
        "model.optimize()"
      ],
      "metadata": {
        "colab": {
          "base_uri": "https://localhost:8080/"
        },
        "id": "CG-gh421tYfv",
        "outputId": "16e1bff7-9c0c-48e8-b2fd-1a2469483ef2"
      },
      "execution_count": 60,
      "outputs": [
        {
          "output_type": "stream",
          "name": "stdout",
          "text": [
            "Gurobi Optimizer version 10.0.1 build v10.0.1rc0 (linux64)\n",
            "\n",
            "CPU model: Intel(R) Xeon(R) CPU @ 2.20GHz, instruction set [SSE2|AVX|AVX2]\n",
            "Thread count: 1 physical cores, 2 logical processors, using up to 2 threads\n",
            "\n",
            "Optimize a model with 242 rows, 1364 columns and 1056 nonzeros\n",
            "Model fingerprint: 0x0ba05443\n",
            "Model has 720 general constraints\n",
            "Variable types: 484 continuous, 880 integer (880 binary)\n",
            "Coefficient statistics:\n",
            "  Matrix range     [1e+00, 1e+01]\n",
            "  Objective range  [1e+01, 9e+01]\n",
            "  Bounds range     [1e+00, 1e+00]\n",
            "  RHS range        [1e+00, 2e+02]\n",
            "  GenCon rhs range [1e+01, 9e+01]\n",
            "  GenCon coe range [1e+00, 1e+00]\n",
            "\n",
            "MIP start from previous solve produced solution with objective 179.638 (0.02s)\n",
            "Loaded MIP start from previous solve with objective 179.638\n",
            "\n",
            "Presolve removed 228 rows and 1324 columns\n",
            "Presolve time: 0.01s\n",
            "Presolved: 14 rows, 40 columns, 80 nonzeros\n",
            "Variable types: 0 continuous, 40 integer (40 binary)\n",
            "\n",
            "Explored 0 nodes (0 simplex iterations) in 0.04 seconds (0.00 work units)\n",
            "Thread count was 2 (of 2 available processors)\n",
            "\n",
            "Solution count 1: 179.638 \n",
            "\n",
            "Optimal solution found (tolerance 1.00e-04)\n",
            "Best objective 1.796383778758e+02, best bound 1.796383778758e+02, gap 0.0000%\n"
          ]
        }
      ]
    },
    {
      "cell_type": "code",
      "source": [
        "print(\"Função Objetivo: \",str(round(model.ObjVal,2)))\n",
        "for v in model.getVars():\n",
        "  if v.x > 0.9:\n",
        "    print(str(v.VarName)+\"=\"+str(v.x))"
      ],
      "metadata": {
        "colab": {
          "base_uri": "https://localhost:8080/"
        },
        "id": "WqGg_cBQtZKE",
        "outputId": "39a3ca6d-eb69-41c4-8434-4aef3c02ae27"
      },
      "execution_count": 61,
      "outputs": [
        {
          "output_type": "stream",
          "name": "stdout",
          "text": [
            "Função Objetivo:  179.64\n",
            "x[1,10,4]=1.0\n",
            "x[2,0,4]=1.0\n",
            "x[3,9,3]=1.0\n",
            "x[4,1,3]=1.0\n",
            "x[5,6,2]=1.0\n",
            "x[6,5,2]=1.0\n",
            "x[7,9,2]=1.0\n",
            "x[8,3,2]=1.0\n",
            "x[9,3,1]=1.0\n",
            "x[10,1,1]=1.0\n",
            "t[1,1]=10.0\n",
            "t[1,2]=10.0\n",
            "t[1,3]=10.0\n",
            "t[1,4]=10.0\n",
            "t[2,1]=10.0\n",
            "t[2,2]=10.0\n",
            "t[2,3]=10.0\n",
            "t[2,4]=10.0\n",
            "t[3,1]=10.0\n",
            "t[3,2]=10.0\n",
            "t[3,3]=10.0\n",
            "t[3,4]=10.0\n",
            "t[4,1]=20.0\n",
            "t[4,2]=20.0\n",
            "t[4,3]=20.0\n",
            "t[4,4]=20.0\n",
            "t[5,1]=20.0\n",
            "t[5,2]=20.0\n",
            "t[5,3]=20.0\n",
            "t[5,4]=20.0\n",
            "t[6,1]=20.0\n",
            "t[6,2]=20.0\n",
            "t[6,3]=20.0\n",
            "t[6,4]=20.0\n",
            "t[7,1]=40.0\n",
            "t[7,2]=40.0\n",
            "t[7,3]=40.0\n",
            "t[7,4]=40.0\n",
            "t[8,1]=40.0\n",
            "t[8,2]=40.0\n",
            "t[8,3]=40.0\n",
            "t[8,4]=40.0\n",
            "t[9,1]=40.0\n",
            "t[9,2]=40.0\n",
            "t[9,3]=40.0\n",
            "t[9,4]=40.0\n",
            "t[10,1]=40.0\n",
            "t[10,2]=40.0\n",
            "t[10,3]=40.0\n",
            "t[10,4]=40.0\n"
          ]
        }
      ]
    }
  ]
}